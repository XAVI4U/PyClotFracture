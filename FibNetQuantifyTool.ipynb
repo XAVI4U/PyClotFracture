{
 "cells": [
  {
   "cell_type": "markdown",
   "id": "e7673914",
   "metadata": {},
   "source": [
    "## FibNetQuantifyTool\n",
    "_Shiyu Liu. All copyright. 20230101_\n",
    "\n",
    "For data extracting and parameter calculation, compatiable with Qiber3D."
   ]
  },
  {
   "cell_type": "code",
   "execution_count": 2,
   "id": "ad43057c-7411-4330-a697-a21163ef6e5c",
   "metadata": {},
   "outputs": [
    {
     "name": "stdout",
     "output_type": "stream",
     "text": [
      "Input filename: FF_2photon_q1\n"
     ]
    },
    {
     "name": "stdout",
     "output_type": "stream",
     "text": [
      "FF_2photon_q1\n",
      "Writing completed!\n"
     ]
    }
   ],
   "source": [
    "# Main body\n",
    "import json\n",
    "import pandas as pd\n",
    "import numpy as np\n",
    "\n",
    "filename=input(\"Input filename:\")\n",
    "#filename = 'C_25um_q'\n",
    "df = pd.DataFrame()\n",
    "\n",
    "with open(filename+'.json','r',encoding = 'utf-8') as fcc_file:\n",
    "    fcc_data = json.load(fcc_file)\n",
    "    df = pd.DataFrame(fcc_data['network']['segment'])\n",
    "    len_total = len(df.loc[\"point\"])\n",
    "    start_point = [[0,0,0] for x in range(len_total)]\n",
    "    end_point = [[0,0,0] for x in range(len_total)]\n",
    "    for i in range(0,len_total):\n",
    "        len_point = len(df.loc[\"point\"][i])\n",
    "        start_point[i] = df.loc[\"point\"][i][0]\n",
    "        end_point[i] = df.loc[\"point\"][i][len_point-1]\n",
    "        \n",
    "    df.loc[len(df)] = start_point\n",
    "    df.loc[len(df)] = end_point\n",
    "    df.index = [\"sid\", \"volume\", \"average_radius\", \"cylinder_radius\", \"length\", \"direction\", \"point\", \"radius\", \"start_point\", \"end_point\"]\n",
    "    \n",
    "    df.to_csv(filename+'.csv', index=[\"sid\", \"volume\", \"average_radius\", \"cylinder_radius\", \"length\", \"direction\", \"point\", \"radius\", \"start_point\", \"end_point\"], header=True)\n",
    "\n",
    "print(filename)\n",
    "print(\"Writing completed!\")\n",
    "\n",
    "fcc_file.close()"
   ]
  }
 ],
 "metadata": {
  "kernelspec": {
   "display_name": "Python 3 (ipykernel)",
   "language": "python",
   "name": "python3"
  },
  "language_info": {
   "codemirror_mode": {
    "name": "ipython",
    "version": 3
   },
   "file_extension": ".py",
   "mimetype": "text/x-python",
   "name": "python",
   "nbconvert_exporter": "python",
   "pygments_lexer": "ipython3",
   "version": "3.9.13"
  },
  "widgets": {
   "application/vnd.jupyter.widget-state+json": {
    "state": {},
    "version_major": 2,
    "version_minor": 0
   }
  }
 },
 "nbformat": 4,
 "nbformat_minor": 5
}
