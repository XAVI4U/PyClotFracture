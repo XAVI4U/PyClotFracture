{
 "cells": [
  {
   "cell_type": "code",
   "execution_count": null,
   "id": "b3f5619b-0ab4-417a-8510-fe936c0ae646",
   "metadata": {},
   "outputs": [],
   "source": [
    "## Shiyu Liu. All copyright. 20230101"
   ]
  },
  {
   "cell_type": "code",
   "execution_count": 2,
   "id": "ad43057c-7411-4330-a697-a21163ef6e5c",
   "metadata": {},
   "outputs": [],
   "source": [
    "#%%writefile json_to_csv.py\n",
    "import json\n",
    "import pandas as pd\n",
    "import numpy as np\n",
    "\n",
    "filename=input(\"Input filename:\")\n",
    "#filename = 'C_25um_q'\n",
    "df = pd.DataFrame()\n",
    "\n",
    "with open(filename+'.json','r',encoding = 'utf-8') as fcc_file:\n",
    "    fcc_data = json.load(fcc_file)\n",
    "    df = pd.DataFrame(fcc_data['network']['segment'])\n",
    "    len_total = len(df.loc[\"point\"])\n",
    "    start_point = [[0,0,0] for x in range(len_total)]\n",
    "    end_point = [[0,0,0] for x in range(len_total)]\n",
    "    for i in range(0,len_total):\n",
    "        len_point = len(df.loc[\"point\"][i])\n",
    "        start_point[i] = df.loc[\"point\"][i][0]\n",
    "        end_point[i] = df.loc[\"point\"][i][len_point-1]\n",
    "        \n",
    "    df.loc[len(df)] = start_point\n",
    "    df.loc[len(df)] = end_point\n",
    "    df.index = [\"sid\", \"volume\", \"average_radius\", \"cylinder_radius\", \"length\", \"direction\", \"point\", \"radius\", \"start_point\", \"end_point\"]\n",
    "    \n",
    "    df.to_csv(filename+'.csv', index=[\"sid\", \"volume\", \"average_radius\", \"cylinder_radius\", \"length\", \"direction\", \"point\", \"radius\", \"start_point\", \"end_point\"], header=True)\n",
    "\n",
    "print(filename)\n",
    "print(\"Writing completed!\")\n",
    "\n",
    "fcc_file.close()"
   ]
  },
  {
   "cell_type": "code",
   "execution_count": 1,
   "id": "30027e39-6582-49c1-b329-a8e7af724f2e",
   "metadata": {
    "collapsed": true,
    "jupyter": {
     "outputs_hidden": true
    },
    "tags": []
   },
   "outputs": [
    {
     "ename": "NameError",
     "evalue": "name 'df' is not defined",
     "output_type": "error",
     "traceback": [
      "\u001b[0;31m---------------------------------------------------------------------------\u001b[0m",
      "\u001b[0;31mNameError\u001b[0m                                 Traceback (most recent call last)",
      "\u001b[0;32m/var/folders/5m/x69qfzfj3hv61s76t06hgtxm0000gn/T/ipykernel_59019/3842288074.py\u001b[0m in \u001b[0;36m<module>\u001b[0;34m\u001b[0m\n\u001b[0;32m----> 1\u001b[0;31m \u001b[0mprint\u001b[0m\u001b[0;34m(\u001b[0m\u001b[0mdf\u001b[0m\u001b[0;34m.\u001b[0m\u001b[0mloc\u001b[0m\u001b[0;34m[\u001b[0m\u001b[0;34m\"point\"\u001b[0m\u001b[0;34m]\u001b[0m\u001b[0;34m[\u001b[0m\u001b[0;36m0\u001b[0m\u001b[0;34m]\u001b[0m\u001b[0;34m)\u001b[0m\u001b[0;34m\u001b[0m\u001b[0;34m\u001b[0m\u001b[0m\n\u001b[0m\u001b[1;32m      2\u001b[0m \u001b[0mprint\u001b[0m\u001b[0;34m(\u001b[0m\u001b[0mdf\u001b[0m\u001b[0;34m.\u001b[0m\u001b[0mloc\u001b[0m\u001b[0;34m[\u001b[0m\u001b[0;34m\"point\"\u001b[0m\u001b[0;34m]\u001b[0m\u001b[0;34m[\u001b[0m\u001b[0;36m0\u001b[0m\u001b[0;34m]\u001b[0m\u001b[0;34m[\u001b[0m\u001b[0;36m0\u001b[0m\u001b[0;34m]\u001b[0m\u001b[0;34m)\u001b[0m\u001b[0;34m\u001b[0m\u001b[0;34m\u001b[0m\u001b[0m\n\u001b[1;32m      3\u001b[0m \u001b[0mdf\u001b[0m\u001b[0;34m.\u001b[0m\u001b[0mloc\u001b[0m\u001b[0;34m[\u001b[0m\u001b[0;34m\"point\"\u001b[0m\u001b[0;34m]\u001b[0m\u001b[0;34m[\u001b[0m\u001b[0;36m0\u001b[0m\u001b[0;34m]\u001b[0m\u001b[0;34m[\u001b[0m\u001b[0;36m0\u001b[0m\u001b[0;34m]\u001b[0m\u001b[0;34m=\u001b[0m\u001b[0;34m[\u001b[0m\u001b[0;36m0\u001b[0m\u001b[0;34m,\u001b[0m\u001b[0;36m0\u001b[0m\u001b[0;34m,\u001b[0m\u001b[0;36m0\u001b[0m\u001b[0;34m]\u001b[0m\u001b[0;34m\u001b[0m\u001b[0;34m\u001b[0m\u001b[0m\n\u001b[1;32m      4\u001b[0m \u001b[0mprint\u001b[0m\u001b[0;34m(\u001b[0m\u001b[0mdf\u001b[0m\u001b[0;34m.\u001b[0m\u001b[0mloc\u001b[0m\u001b[0;34m[\u001b[0m\u001b[0;34m\"point\"\u001b[0m\u001b[0;34m]\u001b[0m\u001b[0;34m[\u001b[0m\u001b[0;36m0\u001b[0m\u001b[0;34m]\u001b[0m\u001b[0;34m)\u001b[0m\u001b[0;34m\u001b[0m\u001b[0;34m\u001b[0m\u001b[0m\n",
      "\u001b[0;31mNameError\u001b[0m: name 'df' is not defined"
     ]
    }
   ],
   "source": [
    "print(df.loc[\"point\"][0])\n",
    "print(df.loc[\"point\"][0][0])\n",
    "df.loc[\"point\"][0][0]=[0,0,0]\n",
    "print(df.loc[\"point\"][0])"
   ]
  },
  {
   "cell_type": "code",
   "execution_count": 7,
   "id": "88b5ade8-0488-421c-b9bf-e5767c0c886c",
   "metadata": {
    "collapsed": true,
    "jupyter": {
     "outputs_hidden": true
    },
    "tags": []
   },
   "outputs": [
    {
     "name": "stdout",
     "output_type": "stream",
     "text": [
      "7560\n",
      "7559\n",
      "5\n",
      "[[86.90027671213335, 4.484011680327349, 13.208186163399837], [87.19994977258459, 4.642095337831312, 13.86605398317128], [87.3964822449664, 4.896334531527926, 14.396522587946585], [87.75890515596693, 5.20055224801053, 14.601298634269222], [88.40847026944762, 5.414720503359283, 14.45094781726599]]\n",
      "[86.90027671213335, 4.484011680327349, 13.208186163399837]\n",
      "[88.40847026944762, 5.414720503359283, 14.45094781726599]\n",
      "[1.5081935573142715, 0.9307088230319343, 1.2427616538661521]\n",
      "[[86.90027671213335, 4.484011680327349, 13.208186163399837], [87.19994977258459, 4.642095337831312, 13.86605398317128], [87.3964822449664, 4.896334531527926, 14.396522587946585], [87.75890515596693, 5.20055224801053, 14.601298634269222], [88.40847026944762, 5.414720503359283, 14.45094781726599]]\n",
      "1.5081935573142715\n",
      "[ 0.          0.          0.         ... 86.90027671  4.48401168\n",
      " 13.20818616]\n"
     ]
    }
   ],
   "source": [
    "print(len_total)\n",
    "print(i)\n",
    "print(len_point)\n",
    "print(df.loc[\"point\"][i])\n",
    "print(df.loc[\"point\"][i][0])\n",
    "print(df.loc[\"point\"][i][len_point-1])\n",
    "\n",
    "print(df.loc[\"direction\"][i])\n",
    "print(df.loc[\"point\"][i][len_point-1][0]-df.loc[\"point\"][i][0][0])\n",
    "print(start_point[0])"
   ]
  },
  {
   "cell_type": "code",
   "execution_count": 21,
   "id": "d0c114ce-89e4-4161-b17b-8762cac1aed5",
   "metadata": {},
   "outputs": [
    {
     "name": "stdout",
     "output_type": "stream",
     "text": [
      "[[0, 0, 0], [0, 0, 0], [0, 0, 0], [0, 0, 0], [0, 0, 0], [0, 0, 0]]\n",
      "[0, 0, 0]\n"
     ]
    }
   ],
   "source": [
    "n = [[0,0,0] for x in range(6)]\n",
    "print(n)\n",
    "print(n[0])"
   ]
  },
  {
   "cell_type": "code",
   "execution_count": null,
   "id": "75cebd0c-9a00-4863-96b3-e5b9f5ad1436",
   "metadata": {},
   "outputs": [],
   "source": []
  }
 ],
 "metadata": {
  "kernelspec": {
   "display_name": "Python 3 (ipykernel)",
   "language": "python",
   "name": "python3"
  },
  "language_info": {
   "codemirror_mode": {
    "name": "ipython",
    "version": 3
   },
   "file_extension": ".py",
   "mimetype": "text/x-python",
   "name": "python",
   "nbconvert_exporter": "python",
   "pygments_lexer": "ipython3",
   "version": "3.9.13"
  },
  "widgets": {
   "application/vnd.jupyter.widget-state+json": {
    "state": {},
    "version_major": 2,
    "version_minor": 0
   }
  }
 },
 "nbformat": 4,
 "nbformat_minor": 5
}
